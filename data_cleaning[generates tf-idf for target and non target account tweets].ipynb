{
 "cells": [
  {
   "cell_type": "code",
   "execution_count": 1,
   "metadata": {},
   "outputs": [
    {
     "name": "stderr",
     "output_type": "stream",
     "text": [
      "[nltk_data] Downloading package stopwords to\n",
      "[nltk_data]     /Users/umasreeram/nltk_data...\n",
      "[nltk_data]   Package stopwords is already up-to-date!\n",
      "[nltk_data] Downloading package wordnet to\n",
      "[nltk_data]     /Users/umasreeram/nltk_data...\n",
      "[nltk_data]   Package wordnet is already up-to-date!\n"
     ]
    },
    {
     "data": {
      "text/plain": [
       "True"
      ]
     },
     "execution_count": 1,
     "metadata": {},
     "output_type": "execute_result"
    }
   ],
   "source": [
    "import nltk\n",
    "nltk.download('stopwords')\n",
    "nltk.download('wordnet')"
   ]
  },
  {
   "cell_type": "code",
   "execution_count": 2,
   "metadata": {},
   "outputs": [],
   "source": [
    "from sklearn.feature_extraction.text import TfidfVectorizer\n",
    "import pandas as pd\n",
    "import re\n",
    "import nltk\n",
    "from nltk.corpus import stopwords\n",
    "stop_words = set(stopwords.words('english'))\n",
    "from nltk.stem.lancaster import LancasterStemmer\n",
    "from nltk.stem.wordnet import WordNetLemmatizer\n",
    "\n",
    "\n",
    "\n",
    "\n",
    "def stem_words(words):\n",
    "    \"\"\"Stem words in list of tokenized words\"\"\"\n",
    "    stemmer = LancasterStemmer()\n",
    "    stems = []\n",
    "    for word in words:\n",
    "        stem = stemmer.stem(word)\n",
    "        stems.append(stem)\n",
    "    return stems\n",
    "\n",
    "def lemmatize_verbs(words):\n",
    "    \"\"\"Lemmatize verbs in list of tokenized words\"\"\"\n",
    "    lemmatizer = WordNetLemmatizer()\n",
    "    lemmas = []\n",
    "    for word in words:\n",
    "        lemma = lemmatizer.lemmatize(word, pos='v')\n",
    "        lemmas.append(lemma)\n",
    "    return lemmas\n",
    "\n",
    "def stem_and_lemmatize(words):\n",
    "    stems = stem_words(words)\n",
    "    lemmas = lemmatize_verbs(stems)\n",
    "    return \" \".join(lemmas)\n",
    "\n",
    "\n",
    "\n",
    "\n",
    "def clean_string(mystr):\n",
    "    mystr=mystr.lower()\n",
    "    mystr=re.sub(r\"\\\\\\w+\", \" \", mystr)\n",
    "    mystr=re.sub(r\"\\@\\w+\",\" \",mystr)\n",
    "    mystr=re.sub(r\"\\#\\w+\",\" \",mystr)\n",
    "    mystr=re.sub(r\"https?:\\/\\/(www\\.)?[-a-zA-Z0-9@:%._\\+~#=]{1,256}\\.[a-zA-Z0-9()]{1,6}\\b([-a-zA-Z0-9()@:%_\\+.~#?&//=]*)\",\" \",mystr)\n",
    "    \n",
    "    mystr=mystr[2:-1]\n",
    "    \n",
    "    cleantext = \"\".join([x.lower() if (x.isalpha() or x.isspace()) else ' ' for x in mystr])\n",
    "    \n",
    "    return cleantext\n",
    "\n",
    "def remove_stop_words(mystr):\n",
    "    word_list= mystr.split()\n",
    "    cleaned_word_list=[w for w in word_list if w not in stop_words and len(w)>=2]\n",
    "    \n",
    "    return cleaned_word_list\n",
    "   \n",
    "    \n",
    "\n",
    "def join_words(mylist):\n",
    "    return \" \".join(mylist)\n"
   ]
  },
  {
   "cell_type": "code",
   "execution_count": 4,
   "metadata": {},
   "outputs": [
    {
     "name": "stdout",
     "output_type": "stream",
     "text": [
      "tesla_tweets.csv\n",
      "parenting_tweets.csv\n",
      "ebay_tweets.csv\n",
      "usedgov_tweets.csv\n",
      "nytimes_tweets.csv\n",
      "premierleague_tweets.csv\n",
      "ladygaga_tweets.csv\n",
      "MTV_tweets.csv\n",
      "facebook_tweets.csv\n",
      "FoodandTravelEd_tweets.csv\n"
     ]
    }
   ],
   "source": [
    "\n",
    "import os\n",
    "goal_dir = os.path.join(os.getcwd(), \"tweets_raw/\")\n",
    "\n",
    "\n",
    "\n",
    "for filename in os.listdir(goal_dir):\n",
    "    if filename.endswith(\".csv\"): \n",
    "         print(filename)"
   ]
  },
  {
   "cell_type": "code",
   "execution_count": 5,
   "metadata": {},
   "outputs": [],
   "source": [
    "from numpy import asarray\n",
    "from numpy import savetxt\n",
    "import numpy as np\n",
    "        \n",
    "goal_dir = os.path.join(os.getcwd(), \"tweets_raw/\")\n",
    "\n",
    "import os\n",
    "\n",
    "vocabulary={}\n",
    "\n",
    "for filename in os.listdir(goal_dir):\n",
    "    if filename.endswith(\".csv\"): \n",
    "        file = pd.read_csv(\"tweets_raw/\"+filename)\n",
    "        file['clean_text']=file['text'].apply(clean_string)\n",
    "\n",
    "        file['word list']=file['clean_text'].apply(remove_stop_words)\n",
    "        #file['cleaned_word_list']=file['word list'].apply(stem_and_lemmatize)\n",
    "        \n",
    "        file['word list']=file['word list'].apply(join_words)\n",
    "        \n",
    "\n",
    "        file.to_csv(r'cleaned_csv/clean_'+filename, encoding='utf-8')\n",
    "\n",
    "\n",
    "\n",
    "\n",
    "        vectorizer = TfidfVectorizer()\n",
    "        tfidfmatrix = vectorizer.fit_transform(file['word list'])\n",
    "\n",
    "        vocab = vectorizer.get_feature_names()\n",
    "        tfidf_data=tfidfmatrix.toarray()\n",
    "        vocabulary[filename]=vocab\n",
    "        \n",
    "        tfidf_pd=pd.DataFrame(data=tfidf_data,columns=vocab,index=file['id'])\n",
    "        \n",
    "        tfidf_pd.to_csv(r'tfidf_matrices/tfidf_'+filename, encoding='utf-8')\n",
    "        \n",
    "\n"
   ]
  },
  {
   "cell_type": "code",
   "execution_count": 6,
   "metadata": {},
   "outputs": [],
   "source": [
    "#print(vocabulary)\n",
    "vocab_length={}\n",
    "for x in vocabulary:\n",
    "    vocab_length[x]=len(vocabulary[x])"
   ]
  },
  {
   "cell_type": "code",
   "execution_count": 7,
   "metadata": {},
   "outputs": [
    {
     "name": "stdout",
     "output_type": "stream",
     "text": [
      "{'tesla_tweets.csv': 4597, 'parenting_tweets.csv': 2002, 'ebay_tweets.csv': 5505, 'usedgov_tweets.csv': 5356, 'nytimes_tweets.csv': 10313, 'premierleague_tweets.csv': 3643, 'ladygaga_tweets.csv': 5013, 'MTV_tweets.csv': 3966, 'facebook_tweets.csv': 3700, 'FoodandTravelEd_tweets.csv': 6607}\n"
     ]
    }
   ],
   "source": [
    "print(vocab_length)"
   ]
  },
  {
   "cell_type": "code",
   "execution_count": null,
   "metadata": {},
   "outputs": [],
   "source": []
  }
 ],
 "metadata": {
  "kernelspec": {
   "display_name": "Python 3",
   "language": "python",
   "name": "python3"
  },
  "language_info": {
   "codemirror_mode": {
    "name": "ipython",
    "version": 3
   },
   "file_extension": ".py",
   "mimetype": "text/x-python",
   "name": "python",
   "nbconvert_exporter": "python",
   "pygments_lexer": "ipython3",
   "version": "3.7.6"
  }
 },
 "nbformat": 4,
 "nbformat_minor": 2
}
