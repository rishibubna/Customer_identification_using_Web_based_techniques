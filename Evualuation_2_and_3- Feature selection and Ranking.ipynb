{
 "cells": [
  {
   "cell_type": "code",
   "execution_count": 1,
   "metadata": {},
   "outputs": [
    {
     "name": "stderr",
     "output_type": "stream",
     "text": [
      "[nltk_data] Downloading package stopwords to\n",
      "[nltk_data]     /Users/umasreeram/nltk_data...\n",
      "[nltk_data]   Package stopwords is already up-to-date!\n",
      "[nltk_data] Downloading package wordnet to\n",
      "[nltk_data]     /Users/umasreeram/nltk_data...\n",
      "[nltk_data]   Package wordnet is already up-to-date!\n"
     ]
    },
    {
     "data": {
      "text/plain": [
       "True"
      ]
     },
     "execution_count": 1,
     "metadata": {},
     "output_type": "execute_result"
    }
   ],
   "source": [
    "import nltk\n",
    "nltk.download('stopwords')\n",
    "nltk.download('wordnet')"
   ]
  },
  {
   "cell_type": "markdown",
   "metadata": {},
   "source": [
    "__Creating functions to clean tweets__"
   ]
  },
  {
   "cell_type": "code",
   "execution_count": 2,
   "metadata": {},
   "outputs": [],
   "source": [
    "from sklearn.feature_extraction.text import TfidfVectorizer\n",
    "import pandas as pd\n",
    "import re\n",
    "import nltk\n",
    "from nltk.corpus import stopwords\n",
    "stop_words = set(stopwords.words('english'))\n",
    "from nltk.stem.lancaster import LancasterStemmer\n",
    "from nltk.stem.wordnet import WordNetLemmatizer\n",
    "\n",
    "\n",
    "\n",
    "\n",
    "def stem_words(words):\n",
    "    \"\"\"Stem words in list of tokenized words\"\"\"\n",
    "    stemmer = LancasterStemmer()\n",
    "    stems = []\n",
    "    for word in words:\n",
    "        stem = stemmer.stem(word)\n",
    "        stems.append(stem)\n",
    "    return stems\n",
    "\n",
    "def lemmatize_verbs(words):\n",
    "    \"\"\"Lemmatize verbs in list of tokenized words\"\"\"\n",
    "    lemmatizer = WordNetLemmatizer()\n",
    "    lemmas = []\n",
    "    for word in words:\n",
    "        lemma = lemmatizer.lemmatize(word, pos='v')\n",
    "        lemmas.append(lemma)\n",
    "    return lemmas\n",
    "\n",
    "def stem_and_lemmatize(words):\n",
    "    stems = stem_words(words)\n",
    "    return \" \".join(stems)\n",
    "    lemmas = lemmatize_verbs(stems)\n",
    "    return \" \".join(lemmas)\n",
    "\n",
    "\n",
    "\n",
    "\n",
    "def clean_string(mystr):\n",
    "    mystr=mystr.lower()\n",
    "    mystr=re.sub(r\"\\\\\\w+\", \" \", mystr)\n",
    "    mystr=re.sub(r\"\\@\\w+\",\" \",mystr)\n",
    "    mystr=re.sub(r\"\\#\\w+\",\" \",mystr)\n",
    "    mystr=re.sub(r\"https?:\\/\\/(www\\.)?[-a-zA-Z0-9@:%._\\+~#=]{1,256}\\.[a-zA-Z0-9()]{1,6}\\b([-a-zA-Z0-9()@:%_\\+.~#?&//=]*)\",\" \",mystr)\n",
    "    \n",
    "    mystr=mystr[2:-1]\n",
    "    \n",
    "    cleantext = \"\".join([x.lower() if (x.isalpha() or x.isspace()) else ' ' for x in mystr])\n",
    "    \n",
    "    return cleantext\n",
    "\n",
    "def remove_stop_words(mystr):\n",
    "    word_list= mystr.split()\n",
    "    cleaned_word_list=[w for w in word_list if w not in stop_words and len(w)>=2]\n",
    "    \n",
    "    return cleaned_word_list\n",
    "   \n",
    "    \n",
    "\n",
    "   \n"
   ]
  },
  {
   "cell_type": "markdown",
   "metadata": {},
   "source": [
    "__Reading files containing tweets__"
   ]
  },
  {
   "cell_type": "code",
   "execution_count": 3,
   "metadata": {},
   "outputs": [
    {
     "name": "stdout",
     "output_type": "stream",
     "text": [
      "tesla_tweets.csv\n",
      "parenting_tweets.csv\n",
      "ladygaga_tweets_drop2.csv\n",
      "FoodandTravelEd_tweets_drop2.csv\n",
      "tesla_tweets_drop2.csv\n",
      "eBay_tweets_drop2.csv\n",
      "nytimes_tweets_drop2.csv\n",
      "eBay_tweets.csv\n",
      "usedgov_tweets.csv\n",
      "facebook_tweets_drop2.csv\n",
      "nytimes_tweets.csv\n",
      "premierleague_tweets.csv\n",
      "ladygaga_tweets.csv\n",
      "MTV_tweets.csv\n",
      "MTV_tweets_drop2.csv\n",
      "facebook_tweets.csv\n",
      "usedgov_tweets_drop2.csv\n",
      "parenting_tweets_drop2.csv\n",
      "FoodandTravelEd_tweets.csv\n",
      "premierleague_tweets_drop2.csv\n"
     ]
    }
   ],
   "source": [
    "\n",
    "import os\n",
    "goal_dir = os.path.join(os.getcwd(), \"tweets_raw/\")\n",
    "\n",
    "for filename in os.listdir(goal_dir):\n",
    "    if filename.endswith(\".csv\"): \n",
    "         print(filename)"
   ]
  },
  {
   "cell_type": "markdown",
   "metadata": {},
   "source": [
    "__Creating tfidf matrix for every user account__"
   ]
  },
  {
   "cell_type": "code",
   "execution_count": 5,
   "metadata": {},
   "outputs": [],
   "source": [
    "from numpy import asarray\n",
    "from numpy import savetxt\n",
    "import numpy as np\n",
    "        \n",
    "goal_dir = os.path.join(os.getcwd(), \"tweets_raw/\")\n",
    "\n",
    "import os\n",
    "\n",
    "dataframes = {}\n",
    "\n",
    "for filename in os.listdir(goal_dir):\n",
    "    if filename.endswith(\".csv\"): \n",
    "        file = pd.read_csv(\"tweets_raw/\"+filename)\n",
    "        file['clean_text']=file['text'].apply(clean_string)\n",
    "        file['word list']=file['clean_text'].apply(remove_stop_words)\n",
    "        file['cleaned_word_list']=file['word list'].apply(stem_and_lemmatize)\n",
    "        \n",
    "        del file['word list']\n",
    "\n",
    "        vectorizer = TfidfVectorizer()\n",
    "        tfidfmatrix = vectorizer.fit_transform(file['cleaned_word_list'])\n",
    "\n",
    "        vocab = vectorizer.get_feature_names()\n",
    "        tfidf_data=tfidfmatrix.toarray()\n",
    "        \n",
    "        tfidf_pd=pd.DataFrame(data=tfidf_data,columns=vocab,index=file['id'])\n",
    "        \n",
    "        dataframes[filename] = tfidf_pd       \n",
    "\n"
   ]
  },
  {
   "cell_type": "code",
   "execution_count": 6,
   "metadata": {},
   "outputs": [
    {
     "data": {
      "text/plain": [
       "dict_keys(['tesla_tweets.csv', 'parenting_tweets.csv', 'ladygaga_tweets_drop2.csv', 'FoodandTravelEd_tweets_drop2.csv', 'tesla_tweets_drop2.csv', 'eBay_tweets_drop2.csv', 'nytimes_tweets_drop2.csv', 'eBay_tweets.csv', 'usedgov_tweets.csv', 'facebook_tweets_drop2.csv', 'nytimes_tweets.csv', 'premierleague_tweets.csv', 'ladygaga_tweets.csv', 'MTV_tweets.csv', 'MTV_tweets_drop2.csv', 'facebook_tweets.csv', 'usedgov_tweets_drop2.csv', 'parenting_tweets_drop2.csv', 'FoodandTravelEd_tweets.csv', 'premierleague_tweets_drop2.csv'])"
      ]
     },
     "execution_count": 6,
     "metadata": {},
     "output_type": "execute_result"
    }
   ],
   "source": [
    "dataframes.keys()"
   ]
  },
  {
   "cell_type": "code",
   "execution_count": 7,
   "metadata": {},
   "outputs": [],
   "source": [
    "tesla_tfidf = dataframes['tesla_tweets.csv']\n",
    "tesla_tfidf_2 = dataframes['tesla_tweets_drop2.csv']"
   ]
  },
  {
   "cell_type": "code",
   "execution_count": 8,
   "metadata": {},
   "outputs": [],
   "source": [
    "ebday_tfidf = dataframes['eBay_tweets.csv']\n",
    "fb_tfidf = dataframes['facebook_tweets.csv']\n",
    "fnt_tfidf = dataframes['FoodandTravelEd_tweets.csv']\n",
    "gaga_tfidf = dataframes['ladygaga_tweets.csv']\n",
    "mtv_tfidf = dataframes['MTV_tweets.csv']\n",
    "parenting_tfidf = dataframes['parenting_tweets.csv']\n",
    "fpl_tfidf = dataframes['premierleague_tweets.csv']\n",
    "gov_tfidf = dataframes['usedgov_tweets.csv']\n",
    "nyt_tfidf = dataframes['nytimes_tweets.csv']\n",
    "\n",
    "ebday_tfidf_2 = dataframes['eBay_tweets_drop2.csv']\n",
    "fb_tfidf_2 = dataframes['facebook_tweets_drop2.csv']\n",
    "fnt_tfidf_2 = dataframes['FoodandTravelEd_tweets_drop2.csv']\n",
    "gaga_tfidf_2 = dataframes['ladygaga_tweets_drop2.csv']\n",
    "mtv_tfidf_2 = dataframes['MTV_tweets_drop2.csv']\n",
    "parenting_tfidf_2 = dataframes['parenting_tweets_drop2.csv']\n",
    "fpl_tfidf_2 = dataframes['premierleague_tweets_drop2.csv']\n",
    "gov_tfidf_2 = dataframes['usedgov_tweets_drop2.csv']\n",
    "nyt_tfidf_2 = dataframes['nytimes_tweets_drop2.csv']"
   ]
  },
  {
   "cell_type": "markdown",
   "metadata": {},
   "source": [
    "__Setting appropriate labels__"
   ]
  },
  {
   "cell_type": "code",
   "execution_count": 9,
   "metadata": {},
   "outputs": [],
   "source": [
    "tesla_tfidf['label'] = 1\n",
    "tesla_tfidf_2['label'] = 1"
   ]
  },
  {
   "cell_type": "code",
   "execution_count": 10,
   "metadata": {},
   "outputs": [],
   "source": [
    "fb_tfidf['label'] = 0\n",
    "fnt_tfidf['label'] = 0\n",
    "ebday_tfidf['label'] = 0\n",
    "gaga_tfidf['label'] = 0\n",
    "mtv_tfidf['label'] = 0\n",
    "nyt_tfidf['label'] = 0\n",
    "parenting_tfidf['label'] = 0\n",
    "fpl_tfidf['label'] = 0\n",
    "gov_tfidf['label'] = 0\n",
    "\n",
    "fb_tfidf_2['label'] = 0\n",
    "fnt_tfidf_2['label'] = 0\n",
    "ebday_tfidf_2['label'] = 0\n",
    "gaga_tfidf_2['label'] = 0\n",
    "mtv_tfidf_2['label'] = 0\n",
    "nyt_tfidf_2['label'] = 0\n",
    "parenting_tfidf_2['label'] = 0\n",
    "fpl_tfidf_2['label'] = 0\n",
    "gov_tfidf_2['label'] = 0"
   ]
  },
  {
   "cell_type": "markdown",
   "metadata": {},
   "source": [
    "__Combining all tfidf matrices__"
   ]
  },
  {
   "cell_type": "code",
   "execution_count": 11,
   "metadata": {},
   "outputs": [],
   "source": [
    "vertical_stack = pd.concat([tesla_tfidf, fb_tfidf,fnt_tfidf,ebday_tfidf,gaga_tfidf,mtv_tfidf,parenting_tfidf,fpl_tfidf,gov_tfidf,nyt_tfidf,tesla_tfidf_2, fb_tfidf_2,fnt_tfidf_2,ebday_tfidf_2,gaga_tfidf_2,mtv_tfidf_2,parenting_tfidf_2,fpl_tfidf_2,gov_tfidf_2,nyt_tfidf_2], axis=0)\n",
    "vertical_stack = vertical_stack.fillna(0)"
   ]
  },
  {
   "cell_type": "code",
   "execution_count": 12,
   "metadata": {},
   "outputs": [
    {
     "data": {
      "text/plain": [
       "(59939, 15425)"
      ]
     },
     "execution_count": 12,
     "metadata": {},
     "output_type": "execute_result"
    }
   ],
   "source": [
    "vertical_stack.shape"
   ]
  },
  {
   "cell_type": "code",
   "execution_count": 13,
   "metadata": {},
   "outputs": [],
   "source": [
    "vertical_stack=vertical_stack.drop_duplicates().reset_index(drop=True)\n",
    "y = vertical_stack['label']\n",
    "vertical_stack = vertical_stack.drop('label', 1)"
   ]
  },
  {
   "cell_type": "code",
   "execution_count": 14,
   "metadata": {},
   "outputs": [
    {
     "data": {
      "text/plain": [
       "(55256, 15424)"
      ]
     },
     "execution_count": 14,
     "metadata": {},
     "output_type": "execute_result"
    }
   ],
   "source": [
    "vertical_stack.shape"
   ]
  },
  {
   "cell_type": "markdown",
   "metadata": {},
   "source": [
    "__Performing Chi-square for variable selection__"
   ]
  },
  {
   "cell_type": "code",
   "execution_count": 15,
   "metadata": {},
   "outputs": [],
   "source": [
    "from sklearn.feature_selection import chi2"
   ]
  },
  {
   "cell_type": "code",
   "execution_count": 16,
   "metadata": {},
   "outputs": [],
   "source": [
    "chi2score = chi2(vertical_stack, y)"
   ]
  },
  {
   "cell_type": "code",
   "execution_count": 17,
   "metadata": {},
   "outputs": [
    {
     "data": {
      "text/plain": [
       "Text(0.5, 0, '$\\\\chi^2$')"
      ]
     },
     "execution_count": 17,
     "metadata": {},
     "output_type": "execute_result"
    },
    {
     "data": {
      "image/png": "[encoded data removed]",
      "text/plain": [
       "<Figure size 1080x720 with 1 Axes>"
      ]
     },
     "metadata": {
      "needs_background": "light"
     },
     "output_type": "display_data"
    }
   ],
   "source": [
    "import matplotlib. pyplot as plt\n",
    "plt.figure(figsize=(15,10))\n",
    "wscores = zip(vertical_stack.columns, chi2score[0])\n",
    "wchi2 = sorted(wscores, key=lambda x:x[1])\n",
    "topchi2 = list(zip(*wchi2[-50:]))\n",
    "x = range(len(topchi2[1]))\n",
    "labels = topchi2[0]\n",
    "plt.barh(x,topchi2[1], align='center', alpha=0.2)\n",
    "plt.plot(topchi2[1], x, '-o', markersize=5, alpha=0.8)\n",
    "plt.yticks(x, labels)\n",
    "plt.xlabel('$\\chi^2$')"
   ]
  },
  {
   "cell_type": "markdown",
   "metadata": {},
   "source": [
    "__Splitting data into Training and Testing Data__"
   ]
  },
  {
   "cell_type": "code",
   "execution_count": 24,
   "metadata": {},
   "outputs": [],
   "source": [
    "from sklearn.model_selection import train_test_split\n",
    "X_train, X_test, y_train, y_test = train_test_split(vertical_stack, y, test_size=0.20)"
   ]
  },
  {
   "cell_type": "code",
   "execution_count": 25,
   "metadata": {},
   "outputs": [],
   "source": [
    "from collections import Counter\n",
    "counter_train = Counter(y_train)\n",
    "counter_test = Counter(y_test)\n"
   ]
  },
  {
   "cell_type": "markdown",
   "metadata": {},
   "source": [
    "__Oversampling test data__"
   ]
  },
  {
   "cell_type": "code",
   "execution_count": 19,
   "metadata": {},
   "outputs": [
    {
     "name": "stdout",
     "output_type": "stream",
     "text": [
      "Collecting package metadata (current_repodata.json): done\n",
      "Solving environment: failed with initial frozen solve. Retrying with flexible solve.\n",
      "Solving environment: failed with repodata from current_repodata.json, will retry with next repodata source.\n",
      "Collecting package metadata (repodata.json): done\n",
      "Solving environment: failed with initial frozen solve. Retrying with flexible solve.\n",
      "Solving environment: / \n",
      "Found conflicts! Looking for incompatible packages.\n",
      "This can take several minutes.  Press CTRL-C to abort.\n",
      "Examining conflict for spyder anaconda notebook nbconvert jupyter defusedxml: \\| ^C\n",
      "                                                                               failed\n",
      "\n",
      "CondaError: KeyboardInterrupt\n",
      "\n",
      "\n",
      "Note: you may need to restart the kernel to use updated packages.\n"
     ]
    }
   ],
   "source": [
    "conda install -c glemaitre imbalanced-learn"
   ]
  },
  {
   "cell_type": "code",
   "execution_count": 27,
   "metadata": {},
   "outputs": [
    {
     "ename": "ModuleNotFoundError",
     "evalue": "No module named 'imblearn'",
     "output_type": "error",
     "traceback": [
      "\u001b[0;31m---------------------------------------------------------------------------\u001b[0m",
      "\u001b[0;31mModuleNotFoundError\u001b[0m                       Traceback (most recent call last)",
      "\u001b[0;32m<ipython-input-27-2ded65e753da>\u001b[0m in \u001b[0;36m<module>\u001b[0;34m\u001b[0m\n\u001b[0;32m----> 1\u001b[0;31m \u001b[0;32mimport\u001b[0m \u001b[0mimblearn\u001b[0m\u001b[0;34m\u001b[0m\u001b[0;34m\u001b[0m\u001b[0m\n\u001b[0m\u001b[1;32m      2\u001b[0m \u001b[0;32mfrom\u001b[0m \u001b[0mimblearn\u001b[0m \u001b[0;32mimport\u001b[0m \u001b[0munder_sampling\u001b[0m\u001b[0;34m,\u001b[0m \u001b[0mover_sampling\u001b[0m\u001b[0;34m\u001b[0m\u001b[0;34m\u001b[0m\u001b[0m\n\u001b[1;32m      3\u001b[0m \u001b[0;32mfrom\u001b[0m \u001b[0mimblearn\u001b[0m\u001b[0;34m.\u001b[0m\u001b[0mover_sampling\u001b[0m \u001b[0;32mimport\u001b[0m \u001b[0mSMOTE\u001b[0m\u001b[0;34m\u001b[0m\u001b[0;34m\u001b[0m\u001b[0m\n",
      "\u001b[0;31mModuleNotFoundError\u001b[0m: No module named 'imblearn'"
     ]
    }
   ],
   "source": [
    "import imblearn\n",
    "from imblearn import under_sampling, over_sampling\n",
    "from imblearn.over_sampling import SMOTE"
   ]
  },
  {
   "cell_type": "code",
   "execution_count": 18,
   "metadata": {},
   "outputs": [],
   "source": [
    "oversample = SMOTE()"
   ]
  },
  {
   "cell_type": "code",
   "execution_count": 65,
   "metadata": {},
   "outputs": [],
   "source": [
    "X_new, y_new = oversample.fit_resample(X_train, y_train)"
   ]
  },
  {
   "cell_type": "markdown",
   "metadata": {},
   "source": [
    "Feature Selection using results from Chi-square"
   ]
  },
  {
   "cell_type": "code",
   "execution_count": 4,
   "metadata": {},
   "outputs": [],
   "source": [
    "X_new=pd.read_csv('X_train_oversampled.csv')"
   ]
  },
  {
   "cell_type": "code",
   "execution_count": 5,
   "metadata": {},
   "outputs": [],
   "source": [
    "y_new=pd.read_csv('y_train_oversampled.csv')"
   ]
  },
  {
   "cell_type": "code",
   "execution_count": 6,
   "metadata": {},
   "outputs": [],
   "source": [
    "X_test=pd.read_csv('X_test.csv')\n",
    "y_test=pd.read_csv('y_test.csv')"
   ]
  },
  {
   "cell_type": "code",
   "execution_count": null,
   "metadata": {},
   "outputs": [],
   "source": []
  },
  {
   "cell_type": "code",
   "execution_count": 28,
   "metadata": {},
   "outputs": [],
   "source": [
    "X_select = X_new[vertical_stack.columns[np.argsort(chi2score[0])[::-1]][:1000]]"
   ]
  },
  {
   "cell_type": "code",
   "execution_count": 29,
   "metadata": {},
   "outputs": [
    {
     "data": {
      "text/plain": [
       "(79400, 1000)"
      ]
     },
     "execution_count": 29,
     "metadata": {},
     "output_type": "execute_result"
    }
   ],
   "source": [
    "X_select.shape"
   ]
  },
  {
   "cell_type": "code",
   "execution_count": 30,
   "metadata": {},
   "outputs": [],
   "source": [
    "df=X_select.iloc[0]"
   ]
  },
  {
   "cell_type": "code",
   "execution_count": 31,
   "metadata": {},
   "outputs": [
    {
     "name": "stdout",
     "output_type": "stream",
     "text": [
      "model         0.0\n",
      "tesl          0.0\n",
      "driv          0.0\n",
      "supercharg    0.0\n",
      "car           0.0\n",
      "             ... \n",
      "quietest      0.0\n",
      "certain       0.0\n",
      "environm      0.0\n",
      "goldeney      0.0\n",
      "invert        0.0\n",
      "Name: 0, Length: 1000, dtype: float64\n"
     ]
    }
   ],
   "source": [
    "print(df)"
   ]
  },
  {
   "cell_type": "code",
   "execution_count": 32,
   "metadata": {},
   "outputs": [
    {
     "data": {
      "text/plain": [
       "Index(['model', 'tesl', 'driv', 'supercharg', 'car', 'own', 'autopilot',\n",
       "       'battery', 'sol', 'powerwal',\n",
       "       ...\n",
       "       'aqg', 'livestream', 'basin', 'kms', 'deprecy', 'quietest', 'certain',\n",
       "       'environm', 'goldeney', 'invert'],\n",
       "      dtype='object', length=1000)"
      ]
     },
     "execution_count": 32,
     "metadata": {},
     "output_type": "execute_result"
    }
   ],
   "source": [
    "vertical_stack.columns[np.argsort(chi2score[0])[::-1]][:1000]"
   ]
  },
  {
   "cell_type": "code",
   "execution_count": 33,
   "metadata": {},
   "outputs": [],
   "source": [
    "#Using oversampled data from drive"
   ]
  },
  {
   "cell_type": "code",
   "execution_count": 18,
   "metadata": {},
   "outputs": [],
   "source": [
    "from sklearn.ensemble import AdaBoostClassifier\n",
    "from sklearn.tree import DecisionTreeClassifier\n",
    "from sklearn.datasets import load_breast_cancer\n",
    "import pandas as pd\n",
    "import numpy as np\n",
    "from sklearn.model_selection import train_test_split\n",
    "from sklearn.metrics import confusion_matrix\n",
    "from sklearn.preprocessing import LabelEncoder\n"
   ]
  },
  {
   "cell_type": "markdown",
   "metadata": {},
   "source": [
    "__Classification and prediction__"
   ]
  },
  {
   "cell_type": "code",
   "execution_count": 38,
   "metadata": {},
   "outputs": [
    {
     "name": "stderr",
     "output_type": "stream",
     "text": [
      "/opt/anaconda3/lib/python3.7/site-packages/sklearn/utils/validation.py:760: DataConversionWarning: A column-vector y was passed when a 1d array was expected. Please change the shape of y to (n_samples, ), for example using ravel().\n",
      "  y = column_or_1d(y, warn=True)\n"
     ]
    },
    {
     "data": {
      "text/plain": [
       "AdaBoostClassifier(algorithm='SAMME.R',\n",
       "                   base_estimator=DecisionTreeClassifier(ccp_alpha=0.0,\n",
       "                                                         class_weight=None,\n",
       "                                                         criterion='gini',\n",
       "                                                         max_depth=3,\n",
       "                                                         max_features=None,\n",
       "                                                         max_leaf_nodes=None,\n",
       "                                                         min_impurity_decrease=0.0,\n",
       "                                                         min_impurity_split=None,\n",
       "                                                         min_samples_leaf=1,\n",
       "                                                         min_samples_split=2,\n",
       "                                                         min_weight_fraction_leaf=0.0,\n",
       "                                                         presort='deprecated',\n",
       "                                                         random_state=None,\n",
       "                                                         splitter='best'),\n",
       "                   learning_rate=1.0, n_estimators=200, random_state=None)"
      ]
     },
     "execution_count": 38,
     "metadata": {},
     "output_type": "execute_result"
    }
   ],
   "source": [
    "classifier = AdaBoostClassifier(\n",
    "    DecisionTreeClassifier(max_depth=3),\n",
    "    n_estimators=200\n",
    ")\n",
    "classifier.fit(X_select, y_new)"
   ]
  },
  {
   "cell_type": "code",
   "execution_count": 22,
   "metadata": {},
   "outputs": [],
   "source": [
    "from sklearn.ensemble import BaggingClassifier\n",
    "from sklearn.svm import LinearSVC, SVC\n",
    "classifier2= BaggingClassifier(\n",
    "base_estimator=LinearSVC(random_state=0, tol=1e-5),\n",
    "n_estimators=50, random_state=0)\n"
   ]
  },
  {
   "cell_type": "code",
   "execution_count": 25,
   "metadata": {},
   "outputs": [],
   "source": [
    "classifier3= BaggingClassifier(\n",
    "    base_estimator=DecisionTreeClassifier(max_depth=3)\n",
    "    ,n_estimators=200,max_samples=1.0,random_state=0)"
   ]
  },
  {
   "cell_type": "code",
   "execution_count": 30,
   "metadata": {},
   "outputs": [],
   "source": [
    "from sklearn.linear_model import LogisticRegression\n",
    "classifier4= BaggingClassifier(\n",
    "    base_estimator=LogisticRegression()\n",
    "    ,n_estimators=50,max_samples=1.0,random_state=0)"
   ]
  },
  {
   "cell_type": "code",
   "execution_count": 32,
   "metadata": {},
   "outputs": [],
   "source": [
    "classifier5 = AdaBoostClassifier(\n",
    "    LogisticRegression(),\n",
    "    n_estimators=50,random_state=0\n",
    ")"
   ]
  },
  {
   "cell_type": "code",
   "execution_count": 43,
   "metadata": {},
   "outputs": [],
   "source": [
    "predictions = classifier.predict(X_test[vertical_stack.columns[np.argsort(chi2score[0])[::-1]][:1000]])"
   ]
  },
  {
   "cell_type": "code",
   "execution_count": 44,
   "metadata": {},
   "outputs": [
    {
     "data": {
      "text/plain": [
       "array([[9612,  310],\n",
       "       [ 205,  925]])"
      ]
     },
     "execution_count": 44,
     "metadata": {},
     "output_type": "execute_result"
    }
   ],
   "source": [
    "confusion_matrix(y_test, predictions)\n"
   ]
  },
  {
   "cell_type": "code",
   "execution_count": 45,
   "metadata": {},
   "outputs": [
    {
     "data": {
      "text/plain": [
       "0.7822410147991543"
      ]
     },
     "execution_count": 45,
     "metadata": {},
     "output_type": "execute_result"
    }
   ],
   "source": [
    "from sklearn.metrics import f1_score\n",
    "f1_score(y_test, predictions, average='binary')"
   ]
  },
  {
   "cell_type": "markdown",
   "metadata": {},
   "source": [
    "__Extras__"
   ]
  },
  {
   "cell_type": "code",
   "execution_count": null,
   "metadata": {},
   "outputs": [],
   "source": [
    "# X_new.to_csv('X_train_oversampled.csv', index = False, header=True)\n",
    "# y_new.to_csv('y_train_oversampled.csv', index = False, header=True)\n",
    "# X_test.to_csv('X_test.csv', index = False, header=True)\n",
    "# y_test.to_csv('y_test.csv', index = False, header=True)"
   ]
  },
  {
   "cell_type": "code",
   "execution_count": 46,
   "metadata": {},
   "outputs": [
    {
     "data": {
      "text/plain": [
       "(79400, 1000)"
      ]
     },
     "execution_count": 46,
     "metadata": {},
     "output_type": "execute_result"
    }
   ],
   "source": [
    "X_select.shape"
   ]
  },
  {
   "cell_type": "code",
   "execution_count": 103,
   "metadata": {},
   "outputs": [
    {
     "name": "stdout",
     "output_type": "stream",
     "text": [
      "0    \n",
      "Name: cleaned_word_list, dtype: object\n",
      "0    \n",
      "Name: cleaned_word_list, dtype: object\n",
      "0    \n",
      "1    \n",
      "2    \n",
      "3    \n",
      "4    \n",
      "5    \n",
      "6    \n",
      "Name: cleaned_word_list, dtype: object\n",
      "0    \n",
      "Name: cleaned_word_list, dtype: object\n",
      "0    \n",
      "Name: cleaned_word_list, dtype: object\n",
      "0    \n",
      "Name: cleaned_word_list, dtype: object\n",
      "0    \n",
      "1    \n",
      "Name: cleaned_word_list, dtype: object\n",
      "0    \n",
      "Name: cleaned_word_list, dtype: object\n",
      "0    \n",
      "Name: cleaned_word_list, dtype: object\n",
      "0    \n",
      "1    \n",
      "Name: cleaned_word_list, dtype: object\n",
      "0    \n",
      "Name: cleaned_word_list, dtype: object\n",
      "0    \n",
      "Name: cleaned_word_list, dtype: object\n",
      "0    \n",
      "1    \n",
      "2    \n",
      "3    \n",
      "Name: cleaned_word_list, dtype: object\n",
      "0    \n",
      "Name: cleaned_word_list, dtype: object\n"
     ]
    }
   ],
   "source": [
    "goal_dir = os.path.join(os.getcwd(), \"tweets_of_teslafollowers/\")\n",
    "\n",
    "import os\n",
    "\n",
    "tesla_followers = {}\n",
    "\n",
    "for filename in os.listdir(goal_dir):\n",
    "    if filename.endswith(\".csv\"): \n",
    "        file = pd.read_csv(\"tweets_of_teslafollowers/\"+filename)\n",
    "        file['clean_text']=file['text'].apply(clean_string)\n",
    "        file['word list']=file['clean_text'].apply(remove_stop_words)\n",
    "        file['cleaned_word_list']=file['word list'].apply(stem_and_lemmatize)\n",
    "        \n",
    "        del file['word list']\n",
    "\n",
    "        vectorizer = TfidfVectorizer()\n",
    "        try:\n",
    "            tfidfmatrix = vectorizer.fit_transform(file['cleaned_word_list'])\n",
    "            vocab = vectorizer.get_feature_names()\n",
    "            tfidf_data=tfidfmatrix.toarray()\n",
    "            tfidf_pd=pd.DataFrame(data=tfidf_data,columns=vocab,index=file['id'])\n",
    "            tfidf_pd = tfidf_pd.drop(tfidf_pd.columns.difference(vertical_stack.columns[np.argsort(chi2score[0])[::-1]][:1000]),1)\n",
    "            tesla_followers[filename] = tfidf_pd     \n",
    "        except:\n",
    "            print(file['cleaned_word_list'])\n",
    "\n",
    "        "
   ]
  },
  {
   "cell_type": "code",
   "execution_count": 104,
   "metadata": {},
   "outputs": [],
   "source": [
    "#tesla_followers"
   ]
  },
  {
   "cell_type": "code",
   "execution_count": 105,
   "metadata": {},
   "outputs": [
    {
     "name": "stdout",
     "output_type": "stream",
     "text": [
      "(3, 4)\n",
      "(2, 1)\n",
      "(5, 6)\n",
      "(17, 6)\n",
      "(3, 6)\n",
      "(631, 175)\n",
      "(7, 5)\n",
      "(87, 7)\n",
      "(2, 2)\n",
      "(116, 57)\n",
      "(80, 60)\n",
      "(1, 3)\n",
      "(100, 15)\n",
      "(4, 2)\n",
      "(2, 0)\n",
      "(24, 6)\n",
      "(35, 15)\n",
      "(3121, 209)\n",
      "(3, 4)\n",
      "(34, 26)\n",
      "(3, 4)\n",
      "(505, 161)\n",
      "(39, 32)\n",
      "(11, 14)\n",
      "(4, 5)\n",
      "(26, 23)\n",
      "(19, 17)\n",
      "(20, 5)\n",
      "(62, 36)\n",
      "(3, 0)\n",
      "(198, 36)\n",
      "(192, 61)\n",
      "(184, 127)\n",
      "(24, 30)\n",
      "(43, 14)\n",
      "(4, 0)\n",
      "(8, 11)\n",
      "(28, 6)\n",
      "(1, 2)\n",
      "(2, 2)\n",
      "(987, 232)\n",
      "(19, 27)\n",
      "(77, 11)\n",
      "(37, 4)\n",
      "(22, 20)\n",
      "(22, 18)\n",
      "(46, 7)\n",
      "(1, 2)\n",
      "(2, 2)\n",
      "(1, 0)\n",
      "(166, 92)\n",
      "(9, 4)\n",
      "(2, 1)\n",
      "(1, 1)\n",
      "(21, 20)\n",
      "(38, 21)\n",
      "(1001, 73)\n",
      "(23, 10)\n",
      "(575, 51)\n",
      "(38, 16)\n",
      "(68, 57)\n",
      "(189, 77)\n",
      "(21, 15)\n",
      "(1, 0)\n",
      "(2, 5)\n",
      "(6, 0)\n",
      "(1, 1)\n",
      "(61, 23)\n",
      "(20, 2)\n",
      "(18, 12)\n",
      "(69, 22)\n",
      "(6, 1)\n",
      "(6, 3)\n",
      "(4, 0)\n",
      "(14, 5)\n",
      "(135, 93)\n",
      "(1, 0)\n",
      "(6, 5)\n",
      "(5, 7)\n",
      "(7, 2)\n",
      "(1, 1)\n",
      "(5, 6)\n",
      "(279, 59)\n",
      "(1, 0)\n",
      "(104, 0)\n",
      "(944, 215)\n",
      "(20, 8)\n",
      "(25, 9)\n",
      "(4, 3)\n",
      "(1988, 217)\n",
      "(5, 7)\n",
      "(5, 2)\n",
      "(2, 1)\n",
      "(3, 3)\n",
      "(1, 1)\n",
      "(24, 20)\n",
      "(531, 38)\n",
      "(1, 2)\n",
      "(6, 2)\n",
      "(366, 198)\n",
      "(1, 2)\n",
      "(299, 111)\n",
      "(1, 3)\n",
      "(22, 10)\n",
      "(349, 88)\n",
      "(7, 5)\n",
      "(1, 2)\n",
      "(26, 16)\n",
      "(5, 6)\n",
      "(1498, 212)\n",
      "(712, 218)\n",
      "(2, 2)\n",
      "(32, 12)\n",
      "(1, 1)\n",
      "(719, 115)\n",
      "(147, 79)\n",
      "(3241, 288)\n",
      "(11, 7)\n",
      "(31, 27)\n",
      "(83, 55)\n",
      "(42, 31)\n",
      "(2, 1)\n",
      "(1, 1)\n",
      "(1, 1)\n",
      "(279, 39)\n",
      "(1, 4)\n",
      "(100, 69)\n",
      "(1, 0)\n",
      "(1, 0)\n",
      "(3213, 313)\n",
      "(25, 9)\n",
      "(1, 1)\n",
      "(11, 1)\n",
      "(15, 19)\n",
      "(2, 0)\n",
      "(3206, 246)\n",
      "(1, 2)\n",
      "(1, 1)\n",
      "(50, 10)\n",
      "(16, 22)\n",
      "(51, 33)\n",
      "(13, 0)\n",
      "(3, 2)\n",
      "(3, 0)\n",
      "(935, 117)\n",
      "(2052, 202)\n",
      "(32, 40)\n",
      "(3179, 257)\n",
      "(19, 10)\n",
      "(11, 12)\n",
      "(3, 2)\n",
      "(158, 113)\n",
      "(7, 3)\n",
      "(9, 6)\n",
      "(15, 7)\n",
      "(21, 18)\n",
      "(15, 13)\n",
      "(393, 160)\n",
      "(121, 58)\n",
      "(2947, 330)\n",
      "(2, 1)\n",
      "(1, 0)\n",
      "(4, 4)\n",
      "(4, 2)\n",
      "(422, 110)\n",
      "(7, 4)\n",
      "(4, 0)\n",
      "(16, 23)\n",
      "(8, 9)\n",
      "(11, 3)\n",
      "(13, 12)\n",
      "(2, 2)\n",
      "(79, 11)\n",
      "(4, 1)\n",
      "(5, 7)\n",
      "(10, 1)\n",
      "(2, 2)\n",
      "(1572, 214)\n",
      "(43, 35)\n",
      "(1, 2)\n",
      "(294, 116)\n",
      "(3, 3)\n",
      "(21, 26)\n",
      "(902, 161)\n",
      "(6, 3)\n",
      "(166, 102)\n",
      "(3, 0)\n",
      "(16, 8)\n",
      "(58, 40)\n",
      "(18, 8)\n",
      "(287, 103)\n",
      "(79, 22)\n",
      "(64, 23)\n",
      "(70, 27)\n",
      "(2942, 285)\n",
      "(60, 25)\n",
      "(1, 1)\n",
      "(5, 5)\n",
      "(289, 75)\n",
      "(4, 3)\n",
      "(2, 2)\n",
      "(16, 23)\n",
      "(3, 3)\n",
      "(5, 5)\n",
      "(2714, 120)\n",
      "(2, 0)\n",
      "(73, 2)\n",
      "(19, 13)\n",
      "(48, 43)\n",
      "(352, 115)\n",
      "(3, 0)\n",
      "(34, 29)\n",
      "(56, 25)\n",
      "(377, 91)\n",
      "(444, 135)\n",
      "(3197, 244)\n",
      "(64, 68)\n",
      "(2, 3)\n",
      "(10, 13)\n",
      "(66, 43)\n",
      "(23, 4)\n",
      "(4, 1)\n",
      "(1, 2)\n",
      "(61, 43)\n",
      "(1698, 148)\n",
      "(3, 0)\n",
      "(1, 3)\n",
      "(35, 34)\n",
      "(3104, 235)\n",
      "(10, 14)\n",
      "(30, 26)\n",
      "(46, 35)\n",
      "(936, 232)\n",
      "(273, 129)\n",
      "(10, 2)\n",
      "(5, 9)\n",
      "(47, 36)\n",
      "(4, 2)\n",
      "(3198, 305)\n",
      "(2, 0)\n",
      "(21, 13)\n",
      "(4, 6)\n",
      "(1, 2)\n",
      "(639, 127)\n",
      "(2, 1)\n",
      "(592, 78)\n",
      "(11, 9)\n",
      "(5, 10)\n",
      "(238, 91)\n",
      "(52, 37)\n",
      "(5, 6)\n",
      "(212, 37)\n",
      "(166, 6)\n",
      "(110, 62)\n",
      "(1546, 239)\n",
      "(3, 3)\n",
      "(198, 110)\n",
      "(288, 59)\n",
      "(71, 37)\n",
      "(39, 8)\n",
      "(232, 137)\n",
      "(1, 1)\n",
      "(6, 6)\n",
      "(47, 23)\n",
      "(1, 0)\n",
      "(93, 37)\n",
      "(947, 57)\n",
      "(2, 1)\n",
      "(1, 0)\n",
      "(390, 175)\n",
      "(3192, 144)\n",
      "(212, 76)\n",
      "(3156, 124)\n",
      "(103, 51)\n",
      "(2, 2)\n",
      "(8, 2)\n",
      "(6, 3)\n",
      "(3220, 351)\n",
      "(3229, 277)\n",
      "(4, 4)\n",
      "(1, 0)\n",
      "(57, 33)\n",
      "(2, 2)\n",
      "(3, 4)\n",
      "(1, 2)\n",
      "(94, 60)\n",
      "(1372, 244)\n",
      "(276, 91)\n",
      "(1, 1)\n",
      "(14, 14)\n",
      "(808, 179)\n",
      "(12, 12)\n",
      "(2, 3)\n",
      "(128, 21)\n",
      "(2, 0)\n",
      "(99, 22)\n",
      "(4, 4)\n",
      "(19, 10)\n",
      "(1, 0)\n",
      "(3214, 269)\n",
      "(44, 20)\n",
      "(60, 38)\n",
      "(1, 2)\n",
      "(411, 111)\n",
      "(1197, 115)\n",
      "(17, 1)\n",
      "(14, 8)\n",
      "(5, 7)\n",
      "(1, 0)\n",
      "(44, 13)\n",
      "(8, 5)\n",
      "(6, 1)\n",
      "(2, 1)\n",
      "(62, 40)\n",
      "(233, 71)\n",
      "(35, 14)\n",
      "(1, 3)\n",
      "(18, 16)\n",
      "(117, 35)\n",
      "(57, 26)\n",
      "(9, 14)\n",
      "(18, 32)\n",
      "(54, 4)\n",
      "(7, 1)\n",
      "(13, 16)\n",
      "(1, 0)\n",
      "(101, 86)\n",
      "(12, 15)\n",
      "(112, 72)\n",
      "(32, 34)\n",
      "(2, 4)\n",
      "(3, 2)\n",
      "(2710, 295)\n",
      "(444, 56)\n",
      "(1, 0)\n",
      "(16, 14)\n",
      "(1742, 84)\n",
      "(13, 14)\n",
      "(2, 1)\n",
      "(57, 29)\n",
      "(5, 3)\n",
      "(1, 1)\n",
      "(2, 6)\n",
      "(1, 1)\n",
      "(2, 3)\n",
      "(10, 9)\n",
      "(6, 4)\n"
     ]
    }
   ],
   "source": [
    "for i in tesla_followers.values():\n",
    "    print(i.shape)"
   ]
  },
  {
   "cell_type": "markdown",
   "metadata": {},
   "source": [
    "## Evaluation 3- Ranking users"
   ]
  },
  {
   "cell_type": "code",
   "execution_count": 106,
   "metadata": {},
   "outputs": [
    {
     "name": "stdout",
     "output_type": "stream",
     "text": [
      "1000\n"
     ]
    }
   ],
   "source": [
    "feature_list=list(vertical_stack.columns[np.argsort(chi2score[0])[::-1]][:1000])\n",
    "print(len(feature_list))\n"
   ]
  },
  {
   "cell_type": "code",
   "execution_count": 107,
   "metadata": {},
   "outputs": [
    {
     "name": "stdout",
     "output_type": "stream",
     "text": [
      "(3, 1000)\n",
      "(2, 1000)\n",
      "(5, 1000)\n",
      "(17, 1000)\n",
      "(3, 1000)\n",
      "(631, 1000)\n",
      "(7, 1000)\n",
      "(87, 1000)\n",
      "(2, 1000)\n",
      "(116, 1000)\n",
      "(80, 1000)\n",
      "(1, 1000)\n",
      "(100, 1000)\n",
      "(4, 1000)\n",
      "(2, 1000)\n",
      "(24, 1000)\n",
      "(35, 1000)\n",
      "(3121, 1000)\n",
      "(3, 1000)\n",
      "(34, 1000)\n",
      "(3, 1000)\n",
      "(505, 1000)\n",
      "(39, 1000)\n",
      "(11, 1000)\n",
      "(4, 1000)\n",
      "(26, 1000)\n",
      "(19, 1000)\n",
      "(20, 1000)\n",
      "(62, 1000)\n",
      "(3, 1000)\n",
      "(198, 1000)\n",
      "(192, 1000)\n",
      "(184, 1000)\n",
      "(24, 1000)\n",
      "(43, 1000)\n",
      "(4, 1000)\n",
      "(8, 1000)\n",
      "(28, 1000)\n",
      "(1, 1000)\n",
      "(2, 1000)\n",
      "(987, 1000)\n",
      "(19, 1000)\n",
      "(77, 1000)\n",
      "(37, 1000)\n",
      "(22, 1000)\n",
      "(22, 1000)\n",
      "(46, 1000)\n",
      "(1, 1000)\n",
      "(2, 1000)\n",
      "(1, 1000)\n",
      "(166, 1000)\n",
      "(9, 1000)\n",
      "(2, 1000)\n",
      "(1, 1000)\n",
      "(21, 1000)\n",
      "(38, 1000)\n",
      "(1001, 1000)\n",
      "(23, 1000)\n",
      "(575, 1000)\n",
      "(38, 1000)\n",
      "(68, 1000)\n",
      "(189, 1000)\n",
      "(21, 1000)\n",
      "(1, 1000)\n",
      "(2, 1000)\n",
      "(6, 1000)\n",
      "(1, 1000)\n",
      "(61, 1000)\n",
      "(20, 1000)\n",
      "(18, 1000)\n",
      "(69, 1000)\n",
      "(6, 1000)\n",
      "(6, 1000)\n",
      "(4, 1000)\n",
      "(14, 1000)\n",
      "(135, 1000)\n",
      "(1, 1000)\n",
      "(6, 1000)\n",
      "(5, 1000)\n",
      "(7, 1000)\n",
      "(1, 1000)\n",
      "(5, 1000)\n",
      "(279, 1000)\n",
      "(1, 1000)\n",
      "(104, 1000)\n",
      "(944, 1000)\n",
      "(20, 1000)\n",
      "(25, 1000)\n",
      "(4, 1000)\n",
      "(1988, 1000)\n",
      "(5, 1000)\n",
      "(5, 1000)\n",
      "(2, 1000)\n",
      "(3, 1000)\n",
      "(1, 1000)\n",
      "(24, 1000)\n",
      "(531, 1000)\n",
      "(1, 1000)\n",
      "(6, 1000)\n",
      "(366, 1000)\n",
      "(1, 1000)\n",
      "(299, 1000)\n",
      "(1, 1000)\n",
      "(22, 1000)\n",
      "(349, 1000)\n",
      "(7, 1000)\n",
      "(1, 1000)\n",
      "(26, 1000)\n",
      "(5, 1000)\n",
      "(1498, 1000)\n",
      "(712, 1000)\n",
      "(2, 1000)\n",
      "(32, 1000)\n",
      "(1, 1000)\n",
      "(719, 1000)\n",
      "(147, 1000)\n",
      "(3241, 1000)\n",
      "(11, 1000)\n",
      "(31, 1000)\n",
      "(83, 1000)\n",
      "(42, 1000)\n",
      "(2, 1000)\n",
      "(1, 1000)\n",
      "(1, 1000)\n",
      "(279, 1000)\n",
      "(1, 1000)\n",
      "(100, 1000)\n",
      "(1, 1000)\n",
      "(1, 1000)\n",
      "(3213, 1000)\n",
      "(25, 1000)\n",
      "(1, 1000)\n",
      "(11, 1000)\n",
      "(15, 1000)\n",
      "(2, 1000)\n",
      "(3206, 1000)\n",
      "(1, 1000)\n",
      "(1, 1000)\n",
      "(50, 1000)\n",
      "(16, 1000)\n",
      "(51, 1000)\n",
      "(13, 1000)\n",
      "(3, 1000)\n",
      "(3, 1000)\n",
      "(935, 1000)\n",
      "(2052, 1000)\n",
      "(32, 1000)\n",
      "(3179, 1000)\n",
      "(19, 1000)\n",
      "(11, 1000)\n",
      "(3, 1000)\n",
      "(158, 1000)\n",
      "(7, 1000)\n",
      "(9, 1000)\n",
      "(15, 1000)\n",
      "(21, 1000)\n",
      "(15, 1000)\n",
      "(393, 1000)\n",
      "(121, 1000)\n",
      "(2947, 1000)\n",
      "(2, 1000)\n",
      "(1, 1000)\n",
      "(4, 1000)\n",
      "(4, 1000)\n",
      "(422, 1000)\n",
      "(7, 1000)\n",
      "(4, 1000)\n",
      "(16, 1000)\n",
      "(8, 1000)\n",
      "(11, 1000)\n",
      "(13, 1000)\n",
      "(2, 1000)\n",
      "(79, 1000)\n",
      "(4, 1000)\n",
      "(5, 1000)\n",
      "(10, 1000)\n",
      "(2, 1000)\n",
      "(1572, 1000)\n",
      "(43, 1000)\n",
      "(1, 1000)\n",
      "(294, 1000)\n",
      "(3, 1000)\n",
      "(21, 1000)\n",
      "(902, 1000)\n",
      "(6, 1000)\n",
      "(166, 1000)\n",
      "(3, 1000)\n",
      "(16, 1000)\n",
      "(58, 1000)\n",
      "(18, 1000)\n",
      "(287, 1000)\n",
      "(79, 1000)\n",
      "(64, 1000)\n",
      "(70, 1000)\n",
      "(2942, 1000)\n",
      "(60, 1000)\n",
      "(1, 1000)\n",
      "(5, 1000)\n",
      "(289, 1000)\n",
      "(4, 1000)\n",
      "(2, 1000)\n",
      "(16, 1000)\n",
      "(3, 1000)\n",
      "(5, 1000)\n",
      "(2714, 1000)\n",
      "(2, 1000)\n",
      "(73, 1000)\n",
      "(19, 1000)\n",
      "(48, 1000)\n",
      "(352, 1000)\n",
      "(3, 1000)\n",
      "(34, 1000)\n",
      "(56, 1000)\n",
      "(377, 1000)\n",
      "(444, 1000)\n",
      "(3197, 1000)\n",
      "(64, 1000)\n",
      "(2, 1000)\n",
      "(10, 1000)\n",
      "(66, 1000)\n",
      "(23, 1000)\n",
      "(4, 1000)\n",
      "(1, 1000)\n",
      "(61, 1000)\n",
      "(1698, 1000)\n",
      "(3, 1000)\n",
      "(1, 1000)\n",
      "(35, 1000)\n",
      "(3104, 1000)\n",
      "(10, 1000)\n",
      "(30, 1000)\n",
      "(46, 1000)\n",
      "(936, 1000)\n",
      "(273, 1000)\n",
      "(10, 1000)\n",
      "(5, 1000)\n",
      "(47, 1000)\n",
      "(4, 1000)\n",
      "(3198, 1000)\n",
      "(2, 1000)\n",
      "(21, 1000)\n",
      "(4, 1000)\n",
      "(1, 1000)\n",
      "(639, 1000)\n",
      "(2, 1000)\n",
      "(592, 1000)\n",
      "(11, 1000)\n",
      "(5, 1000)\n",
      "(238, 1000)\n",
      "(52, 1000)\n",
      "(5, 1000)\n",
      "(212, 1000)\n",
      "(166, 1000)\n",
      "(110, 1000)\n",
      "(1546, 1000)\n",
      "(3, 1000)\n",
      "(198, 1000)\n",
      "(288, 1000)\n",
      "(71, 1000)\n",
      "(39, 1000)\n",
      "(232, 1000)\n",
      "(1, 1000)\n",
      "(6, 1000)\n",
      "(47, 1000)\n",
      "(1, 1000)\n",
      "(93, 1000)\n",
      "(947, 1000)\n",
      "(2, 1000)\n",
      "(1, 1000)\n",
      "(390, 1000)\n",
      "(3192, 1000)\n",
      "(212, 1000)\n",
      "(3156, 1000)\n",
      "(103, 1000)\n",
      "(2, 1000)\n",
      "(8, 1000)\n",
      "(6, 1000)\n",
      "(3220, 1000)\n",
      "(3229, 1000)\n",
      "(4, 1000)\n",
      "(1, 1000)\n",
      "(57, 1000)\n",
      "(2, 1000)\n",
      "(3, 1000)\n",
      "(1, 1000)\n",
      "(94, 1000)\n",
      "(1372, 1000)\n",
      "(276, 1000)\n",
      "(1, 1000)\n",
      "(14, 1000)\n",
      "(808, 1000)\n",
      "(12, 1000)\n",
      "(2, 1000)\n",
      "(128, 1000)\n",
      "(2, 1000)\n",
      "(99, 1000)\n",
      "(4, 1000)\n",
      "(19, 1000)\n",
      "(1, 1000)\n",
      "(3214, 1000)\n",
      "(44, 1000)\n",
      "(60, 1000)\n",
      "(1, 1000)\n",
      "(411, 1000)\n",
      "(1197, 1000)\n",
      "(17, 1000)\n",
      "(14, 1000)\n",
      "(5, 1000)\n",
      "(1, 1000)\n",
      "(44, 1000)\n",
      "(8, 1000)\n",
      "(6, 1000)\n",
      "(2, 1000)\n",
      "(62, 1000)\n",
      "(233, 1000)\n",
      "(35, 1000)\n",
      "(1, 1000)\n",
      "(18, 1000)\n",
      "(117, 1000)\n",
      "(57, 1000)\n",
      "(9, 1000)\n",
      "(18, 1000)\n",
      "(54, 1000)\n",
      "(7, 1000)\n",
      "(13, 1000)\n",
      "(1, 1000)\n",
      "(101, 1000)\n",
      "(12, 1000)\n",
      "(112, 1000)\n",
      "(32, 1000)\n",
      "(2, 1000)\n",
      "(3, 1000)\n",
      "(2710, 1000)\n",
      "(444, 1000)\n",
      "(1, 1000)\n",
      "(16, 1000)\n",
      "(1742, 1000)\n",
      "(13, 1000)\n",
      "(2, 1000)\n",
      "(57, 1000)\n",
      "(5, 1000)\n",
      "(1, 1000)\n",
      "(2, 1000)\n",
      "(1, 1000)\n",
      "(2, 1000)\n",
      "(10, 1000)\n",
      "(6, 1000)\n"
     ]
    }
   ],
   "source": [
    "for key in tesla_followers:\n",
    "    test=tesla_followers[key]\n",
    "\n",
    "    toadd=list(set(feature_list)-set(test.columns))\n",
    "\n",
    "\n",
    "    toadd_df=pd.DataFrame(np.zeros((test.shape[0], len(toadd))),columns=toadd)\n",
    "    test.reset_index(drop=True, inplace=True)\n",
    "    toadd_df.reset_index(drop=True, inplace=True)\n",
    "\n",
    "\n",
    "    test=pd.concat([test,toadd_df],axis=1)\n",
    "    \n",
    "    tesla_followers[key]=test\n",
    "    print(test.shape)\n",
    "    \n",
    "    \n",
    "       "
   ]
  },
  {
   "cell_type": "code",
   "execution_count": 113,
   "metadata": {},
   "outputs": [],
   "source": [
    "tesla_tweet_prediction=[]\n",
    "score={}\n",
    "for key in tesla_followers:\n",
    "    test=tesla_followers[key]\n",
    "    current_user_pred=classifier.predict(test)\n",
    "    tesla_tweet_prediction.append(current_user_pred)\n",
    "    score[key]=sum(current_user_pred)/len(current_user_pred)"
   ]
  },
  {
   "cell_type": "code",
   "execution_count": 121,
   "metadata": {},
   "outputs": [],
   "source": [
    "import collections\n",
    "from collections import OrderedDict\n",
    "from operator import itemgetter \n",
    "sorted_score = OrderedDict(sorted(score.items(), key=itemgetter(1),reverse=True))\n",
    "#print(sorted_x)"
   ]
  },
  {
   "cell_type": "code",
   "execution_count": 123,
   "metadata": {},
   "outputs": [],
   "source": [
    "a_file = open(\"rankedusers.csv\", \"w\")\n",
    "#a_dict = {\"a\": 1, \"b\": 2}\n",
    "import csv\n",
    "\n",
    "writer = csv.writer(a_file)\n",
    "for key, value in sorted_score.items():\n",
    "    writer.writerow([key, value])\n",
    "\n",
    "a_file.close()"
   ]
  },
  {
   "cell_type": "code",
   "execution_count": null,
   "metadata": {},
   "outputs": [],
   "source": [
    "file['clean_text']"
   ]
  },
  {
   "cell_type": "code",
   "execution_count": null,
   "metadata": {},
   "outputs": [],
   "source": [
    "tfidf_pd.columns.difference(vertical_stack.columns[np.argsort(chi2score[0])[::-1]][:2500])\n",
    "tfidf_pd.drop(tfidf_pd.columns.difference(vertical_stack.columns[np.argsort(chi2score[0])[::-1]][:2500]),1)"
   ]
  },
  {
   "cell_type": "code",
   "execution_count": null,
   "metadata": {},
   "outputs": [],
   "source": []
  }
 ],
 "metadata": {
  "kernelspec": {
   "display_name": "Python 3",
   "language": "python",
   "name": "python3"
  },
  "language_info": {
   "codemirror_mode": {
    "name": "ipython",
    "version": 3
   },
   "file_extension": ".py",
   "mimetype": "text/x-python",
   "name": "python",
   "nbconvert_exporter": "python",
   "pygments_lexer": "ipython3",
   "version": "3.7.6"
  }
 },
 "nbformat": 4,
 "nbformat_minor": 2
}
